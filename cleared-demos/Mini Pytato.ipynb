{
  "cells": [
    {
      "cell_type": "markdown",
      "id": "c151c414-2827-42d6-8eb7-5edaf09dbd56",
      "metadata": {},
      "source": [
        "# Mini Pytato "
      ]
    },
    {
      "cell_type": "code",
      "execution_count": 1,
      "id": "880a1006-9486-4055-b648-ba787448f920",
      "metadata": {},
      "outputs": [],
      "source": [
        "import numpy as np\n",
        "import numpy.linalg as la\n",
        "import pymbolic.primitives as p\n",
        "import loopy as lp\n",
        "import pyopencl as cl\n",
        "import pyopencl.array\n",
        "\n",
        "ctx = cl.create_some_context(interactive=True)\n",
        "queue = cl.CommandQueue(ctx)"
      ]
    },
    {
      "cell_type": "markdown",
      "id": "03f91552-4f6e-48da-b209-e445189465aa",
      "metadata": {},
      "source": [
        "Implement the `Array` base class, along with `Sum`, `Product`, and `Placeholder` subclasses:"
      ]
    },
    {
      "cell_type": "code",
      "execution_count": 14,
      "id": "d4a767cc-3bb5-4c2a-a46d-a108e2163cf2",
      "metadata": {},
      "outputs": [],
      "source": []
    },
    {
      "cell_type": "markdown",
      "id": "5a61324b-8bbe-4935-9b0d-e36a0687d4ef",
      "metadata": {},
      "source": [
        "Implement a `CodegenMapper`:"
      ]
    },
    {
      "cell_type": "code",
      "execution_count": 17,
      "id": "33a4e17b-b5c6-475a-97aa-84646c68e7b9",
      "metadata": {},
      "outputs": [],
      "source": []
    },
    {
      "cell_type": "markdown",
      "id": "0f57f72d-6ec2-4cf9-8378-408220162820",
      "metadata": {},
      "source": [
        "Experiment with some expressions:"
      ]
    },
    {
      "cell_type": "code",
      "execution_count": 5,
      "id": "20235511-4904-4e5d-8a04-0275d378ab76",
      "metadata": {},
      "outputs": [],
      "source": [
        "x = Placeholder(\"x\")\n",
        "y = Placeholder(\"y\")\n",
        "\n",
        "expr = (x+x*y)*x\n",
        "\n",
        "# expr = (x+y)\n",
        "# expr = expr*expr\n",
        "# expr = expr*expr\n",
        "# expr = expr*expr\n",
        "# expr = expr*expr\n",
        "# expr = expr*expr"
      ]
    },
    {
      "cell_type": "markdown",
      "id": "2eec9417-40f0-4656-82a7-ad2d6d222bbd",
      "metadata": {},
      "source": [
        "Generate code for these expressions:"
      ]
    },
    {
      "cell_type": "code",
      "execution_count": 18,
      "id": "88c740c1-d882-4c3a-95cd-4700b35071b6",
      "metadata": {},
      "outputs": [],
      "source": []
    },
    {
      "cell_type": "markdown",
      "id": "30c8f2b4-1363-453d-9a94-635ed7a57d8b",
      "metadata": {},
      "source": [
        "Generate loopy for your expression (and print the resulting kernel):"
      ]
    },
    {
      "cell_type": "code",
      "execution_count": 7,
      "id": "53471296-dd7a-49b2-94b1-f2a0ad3202d7",
      "metadata": {},
      "outputs": [],
      "source": []
    },
    {
      "cell_type": "code",
      "execution_count": 8,
      "id": "1b0255c7-b511-4c6c-9781-291595758311",
      "metadata": {},
      "outputs": [],
      "source": [
        "xval = np.random.randn(10, 10)\n",
        "yval = np.random.randn(10, 10)\n",
        "\n",
        "evt, (res,) = knl(queue, x=xval, y=yval)"
      ]
    },
    {
      "cell_type": "markdown",
      "id": "c1c7536c-dcb7-43d5-8c94-c5b86ccad801",
      "metadata": {},
      "source": [
        "Check the result:"
      ]
    },
    {
      "cell_type": "code",
      "execution_count": 9,
      "id": "b6a639af-e594-4ab6-8616-4f3b0e54b861",
      "metadata": {},
      "outputs": [],
      "source": [
        "print(la.norm(res- (xval+xval*yval)*xval))"
      ]
    },
    {
      "cell_type": "markdown",
      "id": "a76415ee-002c-4914-a99b-bc185a89affb",
      "metadata": {},
      "source": [
        "Look at the generated C code:"
      ]
    },
    {
      "cell_type": "code",
      "execution_count": 10,
      "id": "d27cf5eb-4e6d-4966-9eaa-8e3e6a39bee7",
      "metadata": {},
      "outputs": [],
      "source": [
        "knl = lp.add_and_infer_dtypes(knl, {\"x\": xval.dtype, \"y\": yval.dtype})\n",
        "\n",
        "code = lp.generate_code_v2(knl).device_code()\n",
        "print(code)"
      ]
    },
    {
      "cell_type": "code",
      "execution_count": null,
      "id": "a31357ba-1b4d-4c34-9e51-3d40950e34e1",
      "metadata": {},
      "outputs": [],
      "source": []
    }
  ],
  "metadata": {
    "kernelspec": {
      "display_name": "Python 3 (ipykernel)",
      "language": "python",
      "name": "python3"
    },
    "language_info": {
      "codemirror_mode": {
        "name": "ipython",
        "version": 3
      },
      "file_extension": ".py",
      "mimetype": "text/x-python",
      "name": "python",
      "nbconvert_exporter": "python",
      "pygments_lexer": "ipython3",
      "version": "3.11.5"
    }
  },
  "nbformat": 4,
  "nbformat_minor": 5
}