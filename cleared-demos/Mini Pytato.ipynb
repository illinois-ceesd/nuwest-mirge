{
  "cells": [
    {
      "cell_type": "markdown",
      "id": "c151c414-2827-42d6-8eb7-5edaf09dbd56",
      "metadata": {},
      "source": [
        "# Mini Pytato "
      ]
    },
    {
      "cell_type": "code",
      "execution_count": 8,
      "id": "880a1006-9486-4055-b648-ba787448f920",
      "metadata": {},
      "outputs": [],
      "source": [
        "import numpy as np\n",
        "import numpy.linalg as la\n",
        "import pymbolic.primitives as p\n",
        "import loopy as lp\n",
        "import pyopencl as cl\n",
        "import pyopencl.array\n",
        "\n",
        "%load_ext gvmagic\n",
        "\n",
        "ctx = cl.create_some_context(interactive=True)\n",
        "queue = cl.CommandQueue(ctx)"
      ]
    },
    {
      "cell_type": "markdown",
      "id": "18d276cd-bc95-4ddf-8f0a-c21411ac61bf",
      "metadata": {},
      "source": [
        "In this demo, we will deal with numpy-ish arrays that *all* have shape `(10, 10)` (think of them as $10\\times 10$ matrices maybe) and contain floating point numbers."
      ]
    },
    {
      "cell_type": "markdown",
      "id": "34d74bbb-fcf2-4f09-9d81-a3bc9ed9e564",
      "metadata": {},
      "source": [
        "## Building Expression Graphs\n",
        "\n",
        "We would like to build a data structure that represents the following computation, so that:\n",
        "\n",
        "- we can execute it later\n",
        "- we can generate code for it\n",
        "\n",
        "Reflect for a moment what `result` *is*. Does it contain data? What is its \"meaning\"?\n",
        "\n",
        "(`Placeholder` is not yet implemented. We will do this in the next cell. This cell is repeated below for convenience.)"
      ]
    },
    {
      "cell_type": "code",
      "execution_count": 9,
      "id": "622594a6-c7f4-4f96-8f91-c33e3ce108d0",
      "metadata": {},
      "outputs": [],
      "source": [
        "a = Placeholder(\"a\")\n",
        "b = Placeholder(\"b\")\n",
        "\n",
        "result = a + b * a"
      ]
    },
    {
      "cell_type": "markdown",
      "id": "03f91552-4f6e-48da-b209-e445189465aa",
      "metadata": {},
      "source": [
        "Now let's implement the `Array` base class, along with `Sum`, `Product`, and `Placeholder` subclasses. To do so, fill in code for the `...` ellipses:"
      ]
    },
    {
      "cell_type": "code",
      "execution_count": 15,
      "metadata": {},
      "outputs": [],
      "source": [
        "class Array:\n",
        "    def __init__(self):\n",
        "        self.shape = (10, 10)\n",
        "        self.dtype = np.float64\n",
        "        \n",
        "    def __add__(self, other):\n",
        "        ...\n",
        "    \n",
        "    def __mul__(self, other):\n",
        "        ...\n",
        "        \n",
        "class Sum(Array):\n",
        "    def __init__(self, a, b):\n",
        "        super().__init__()\n",
        "        ...\n",
        "        \n",
        "class Product(Array):\n",
        "    def __init__(self, a, b):\n",
        "        super().__init__()\n",
        "        ...\n",
        "        \n",
        "class Placeholder(Array):\n",
        "    def __init__(self, name):\n",
        "        super().__init__()\n",
        "        ...\n"
      ]
    },
    {
      "cell_type": "code",
      "execution_count": 15,
      "metadata": {
        "jupyter": {
          "source_hidden": true
        }
      },
      "outputs": [],
      "source": [
        "# expand this cell for solution\n",
        "class Array:\n",
        "    def __init__(self):\n",
        "        self.shape = (10, 10)\n",
        "        self.dtype = np.float64\n",
        "        \n",
        "    def __add__(self, other):\n",
        "        return Sum(self, other)\n",
        "    \n",
        "    def __mul__(self, other):\n",
        "        return Product(self, other)\n",
        "        \n",
        "class Sum(Array):\n",
        "    def __init__(self, a, b):\n",
        "        super().__init__()\n",
        "        self.a = a\n",
        "        self.b = b\n",
        "        \n",
        "class Product(Array):\n",
        "    def __init__(self, a, b):\n",
        "        super().__init__()\n",
        "        self.a = a\n",
        "        self.b = b\n",
        "        \n",
        "class Placeholder(Array):\n",
        "    def __init__(self, name):\n",
        "        super().__init__()\n",
        "        self.name = name\n"
      ]
    },
    {
      "cell_type": "markdown",
      "id": "4e398cdc-391f-4254-8be1-d229e9a4a5bd",
      "metadata": {},
      "source": [
        "Here is the cell from above once again:"
      ]
    },
    {
      "cell_type": "code",
      "execution_count": 16,
      "id": "2ebcd6f3-a64c-451e-906e-bf64930eb4aa",
      "metadata": {},
      "outputs": [],
      "source": [
        "a = Placeholder(\"a\")\n",
        "b = Placeholder(\"b\")\n",
        "\n",
        "result = a + b * a"
      ]
    },
    {
      "cell_type": "markdown",
      "id": "db3e9d39-c452-4302-afaa-e71c023a0040",
      "metadata": {},
      "source": [
        "Can you visualize the data structure that we have just created? (Execute this cell to see if your mental image was correct.)"
      ]
    },
    {
      "cell_type": "code",
      "execution_count": 17,
      "id": "8e19d267-6b19-4ba4-9487-f86cb972d3d4",
      "metadata": {},
      "outputs": [],
      "source": [
        "%%dot\n",
        "digraph {\n",
        "    sum -> prod;\n",
        "    sum -> a;\n",
        "    prod -> a;\n",
        "    prod -> b;\n",
        "}"
      ]
    },
    {
      "cell_type": "markdown",
      "id": "b28d3362-684f-46fe-b935-f1febe8f4863",
      "metadata": {},
      "source": [
        "## Evaluating Expressions\n",
        "\n",
        "Write code to evaluate the expression, provided some values for `a` and `b`:"
      ]
    },
    {
      "cell_type": "code",
      "execution_count": 19,
      "metadata": {},
      "outputs": [],
      "source": [
        "def evaluate_expr(expr, values):\n",
        "    if isinstance(expr, Placeholder):\n",
        "        ...\n",
        "    elif isinstance(expr, Sum):\n",
        "        ...\n",
        "    ...\n",
        "    else:\n",
        "        raise ValueError(f\"unexpected node type: {expr.__class__}\")\n",
        "    "
      ]
    },
    {
      "cell_type": "code",
      "execution_count": 19,
      "metadata": {
        "jupyter": {
          "source_hidden": true
        }
      },
      "outputs": [],
      "source": [
        "# expand this cell for solution\n",
        "def evaluate_expr(expr, values):\n",
        "    if isinstance(expr, Placeholder):\n",
        "        return values[expr.name]\n",
        "    elif isinstance(expr, Sum):\n",
        "        return evaluate_expr(expr.a, values) + evaluate_expr(expr.b, values)\n",
        "    elif isinstance(expr, Product):\n",
        "        return evaluate_expr(expr.a, values) * evaluate_expr(expr.b, values)\n",
        "    else:\n",
        "        raise ValueError(f\"unexpected node type: {expr.__class__}\")\n",
        "    "
      ]
    },
    {
      "cell_type": "markdown",
      "id": "70cd2d2f-f904-4fd8-86bc-61065aff1aa6",
      "metadata": {},
      "source": [
        "Let's test if we got it right. If all is well, this should produce an array of zeroes:"
      ]
    },
    {
      "cell_type": "code",
      "execution_count": 20,
      "id": "2c27965f-0c24-4f2d-945c-230d712ef459",
      "metadata": {},
      "outputs": [],
      "source": [
        "a_val = np.random.randn(10, 10)\n",
        "b_val = np.random.randn(10, 10)\n",
        "\n",
        "evaluate_expr(result, {\"a\": a_val, \"b\": b_val}) - (a_val + b_val * a_val)"
      ]
    },
    {
      "cell_type": "markdown",
      "id": "545d781e-634b-49ef-90ef-ce763a7a1133",
      "metadata": {},
      "source": [
        "Functions like `evaluate_expr` are hard to extend once they're written. Using a class with the \"visitor pattern\" can help, where we make one method per node type that needs to be handled. Make note of the `rec` method that dispatches each node to the appropriate method.\n",
        "\n",
        "Fill in the missing method implementations:"
      ]
    },
    {
      "cell_type": "code",
      "execution_count": 37,
      "metadata": {},
      "outputs": [],
      "source": [
        "class EvaluationMapper:\n",
        "    def __init__(self, values):\n",
        "        self.values = values\n",
        "\n",
        "    def rec(self, expr):\n",
        "        method = getattr(self, f\"map_{expr.__class__.__name__}\")\n",
        "        return method(expr)\n",
        "\n",
        "    def map_Sum(self, expr):\n",
        "        ...\n",
        "    \n",
        "    def map_Product(self, expr):\n",
        "        ...\n",
        "\n",
        "    def map_Placeholder(self, expr):\n",
        "        ...\n"
      ]
    },
    {
      "cell_type": "code",
      "execution_count": 37,
      "metadata": {
        "jupyter": {
          "source_hidden": true
        }
      },
      "outputs": [],
      "source": [
        "# expand this cell for solution\n",
        "class EvaluationMapper:\n",
        "    def __init__(self, values):\n",
        "        self.values = values\n",
        "\n",
        "    def rec(self, expr):\n",
        "        method = getattr(self, f\"map_{expr.__class__.__name__}\")\n",
        "        return method(expr)\n",
        "\n",
        "    def map_Sum(self, expr):\n",
        "        return self.rec(expr.a) + self.rec(expr.b)\n",
        "    \n",
        "    def map_Product(self, expr):\n",
        "        return self.rec(expr.a) * self.rec(expr.b)\n",
        "\n",
        "    def map_Placeholder(self, expr):\n",
        "        return self.values[expr.name]\n"
      ]
    },
    {
      "cell_type": "markdown",
      "id": "ee44086a-b662-48b6-8cb0-578f4658a483",
      "metadata": {},
      "source": [
        "Again, let's test that this does what we intend:"
      ]
    },
    {
      "cell_type": "code",
      "execution_count": 38,
      "id": "0654960f-da4c-4e88-a081-d49cea16233e",
      "metadata": {},
      "outputs": [],
      "source": [
        "EvaluationMapper({\"a\": a_val, \"b\": b_val}).rec(result) - (a_val + b_val * a_val)"
      ]
    },
    {
      "cell_type": "markdown",
      "id": "5a61324b-8bbe-4935-9b0d-e36a0687d4ef",
      "metadata": {},
      "source": [
        "## Generating code\n",
        "\n",
        "To generate code using our code generator Loopy, all we need to do is to transcribe our array-valued expression into a scalar one, using an existing expression tree library called `pymbolic`. We have imported this as `p` above. The equivalents of `Placeholder`s there are called `Variable`. Let's write a mapper that does this. Again, fill in the blanks:"
      ]
    },
    {
      "cell_type": "code",
      "execution_count": 63,
      "metadata": {},
      "outputs": [],
      "source": [
        "class CodegenMapper:\n",
        "    def rec(self, expr):\n",
        "        method = getattr(self, f\"map_{expr.__class__.__name__}\")\n",
        "        return method(expr)\n",
        "        \n",
        "    def map_Placeholder(self, expr):\n",
        "        return p.Variable(expr.name)[p.Variable(\"i\"), p.Variable(\"j\")]\n",
        "\n",
        "    def map_Sum(self, expr):\n",
        "        ...\n",
        "    \n",
        "    def map_Product(self, expr):\n",
        "        ...\n"
      ]
    },
    {
      "cell_type": "code",
      "execution_count": 63,
      "metadata": {
        "jupyter": {
          "source_hidden": true
        }
      },
      "outputs": [],
      "source": [
        "# expand this cell for solution\n",
        "class CodegenMapper:\n",
        "    def rec(self, expr):\n",
        "        method = getattr(self, f\"map_{expr.__class__.__name__}\")\n",
        "        return method(expr)\n",
        "        \n",
        "    def map_Placeholder(self, expr):\n",
        "        return p.Variable(expr.name)[p.Variable(\"i\"), p.Variable(\"j\")]\n",
        "\n",
        "    def map_Sum(self, expr):\n",
        "        return self.rec(expr.a) + self.rec(expr.b)\n",
        "    \n",
        "    def map_Product(self, expr):\n",
        "        return self.rec(expr.a) * self.rec(expr.b)\n"
      ]
    },
    {
      "cell_type": "markdown",
      "id": "0f57f72d-6ec2-4cf9-8378-408220162820",
      "metadata": {},
      "source": [
        "Let's with some expressions:"
      ]
    },
    {
      "cell_type": "code",
      "execution_count": 64,
      "id": "20235511-4904-4e5d-8a04-0275d378ab76",
      "metadata": {},
      "outputs": [],
      "source": [
        "x = Placeholder(\"x\")\n",
        "y = Placeholder(\"y\")\n",
        "\n",
        "expr = (x+x*y)*x\n",
        "\n",
        "# expr = (x+y)\n",
        "# expr = expr*expr\n",
        "# expr = expr*expr\n",
        "# expr = expr*expr\n",
        "# expr = expr*expr\n",
        "# expr = expr*expr"
      ]
    },
    {
      "cell_type": "markdown",
      "id": "2eec9417-40f0-4656-82a7-ad2d6d222bbd",
      "metadata": {},
      "source": [
        "Generate code for these expressions:"
      ]
    },
    {
      "cell_type": "code",
      "execution_count": 65,
      "metadata": {},
      "outputs": [],
      "source": []
    },
    {
      "cell_type": "code",
      "execution_count": 65,
      "metadata": {
        "jupyter": {
          "source_hidden": true
        }
      },
      "outputs": [],
      "source": [
        "# expand this cell for solution\n",
        "print(CodegenMapper().rec(expr))"
      ]
    },
    {
      "cell_type": "markdown",
      "id": "30c8f2b4-1363-453d-9a94-635ed7a57d8b",
      "metadata": {},
      "source": [
        "Let's make a loopy kernel for the expression. Fill in the generated scalar expression for the RHS of the `Assignment`:"
      ]
    },
    {
      "cell_type": "code",
      "execution_count": 66,
      "metadata": {},
      "outputs": [],
      "source": [
        "knl = lp.make_kernel(\n",
        "    \"{[i,j]: 0<=i,j<10}\",\n",
        "    [lp.Assignment(\n",
        "        p.Variable(\"lhs\")[p.Variable(\"i\"), p.Variable(\"j\")], \n",
        "        ...\n",
        "    )])\n",
        "print(knl)"
      ]
    },
    {
      "cell_type": "code",
      "execution_count": 66,
      "metadata": {
        "jupyter": {
          "source_hidden": true
        }
      },
      "outputs": [],
      "source": [
        "# expand this cell for solution\n",
        "knl = lp.make_kernel(\n",
        "    \"{[i,j]: 0<=i,j<10}\",\n",
        "    [lp.Assignment(\n",
        "        p.Variable(\"lhs\")[p.Variable(\"i\"), p.Variable(\"j\")], \n",
        "        CodegenMapper().rec(expr)\n",
        "    )])\n",
        "print(knl)"
      ]
    },
    {
      "cell_type": "markdown",
      "id": "44b1439f-4f82-4e55-a2e5-4182128f2a9a",
      "metadata": {},
      "source": [
        "Next, let's run the code on our OpenCL device:"
      ]
    },
    {
      "cell_type": "code",
      "execution_count": 67,
      "id": "1b0255c7-b511-4c6c-9781-291595758311",
      "metadata": {},
      "outputs": [],
      "source": [
        "xval = np.random.randn(10, 10)\n",
        "yval = np.random.randn(10, 10)\n",
        "\n",
        "evt, (res,) = knl(queue, x=xval, y=yval)"
      ]
    },
    {
      "cell_type": "markdown",
      "id": "c1c7536c-dcb7-43d5-8c94-c5b86ccad801",
      "metadata": {},
      "source": [
        "Check the result:"
      ]
    },
    {
      "cell_type": "code",
      "execution_count": 68,
      "id": "b6a639af-e594-4ab6-8616-4f3b0e54b861",
      "metadata": {},
      "outputs": [],
      "source": [
        "print(la.norm(res- (xval+xval*yval)*xval))"
      ]
    },
    {
      "cell_type": "markdown",
      "id": "a76415ee-002c-4914-a99b-bc185a89affb",
      "metadata": {},
      "source": [
        "Look at the generated C code:"
      ]
    },
    {
      "cell_type": "code",
      "execution_count": 69,
      "id": "d27cf5eb-4e6d-4966-9eaa-8e3e6a39bee7",
      "metadata": {},
      "outputs": [],
      "source": [
        "knl = lp.add_and_infer_dtypes(knl, {\"x\": xval.dtype, \"y\": yval.dtype})\n",
        "\n",
        "code = lp.generate_code_v2(knl).device_code()\n",
        "print(code)"
      ]
    },
    {
      "cell_type": "markdown",
      "id": "5cadb85f-276d-441a-94a8-a1dee3b99d5f",
      "metadata": {},
      "source": [
        "And this is where you might start transforming the loopy code. Here is a simple example that tiles the loop:"
      ]
    },
    {
      "cell_type": "code",
      "execution_count": 76,
      "id": "4fd2e2e3-a980-42c4-a123-64fe336e9eb2",
      "metadata": {},
      "outputs": [],
      "source": [
        "tiled = lp.split_iname(knl, \"i\", 4)\n",
        "tiled = lp.split_iname(tiled, \"j\", 4)\n",
        "tiled = lp.prioritize_loops(tiled, \"i_outer, j_outer, i_inner, j_inner\")\n",
        "\n",
        "code = lp.generate_code_v2(tiled).device_code()\n",
        "print(code)"
      ]
    },
    {
      "cell_type": "code",
      "execution_count": null,
      "id": "e9a15bdd-b7c7-4151-bf1f-479efb52d60b",
      "metadata": {},
      "outputs": [],
      "source": []
    }
  ],
  "metadata": {
    "kernelspec": {
      "display_name": "Python 3 (ipykernel)",
      "language": "python",
      "name": "python3"
    },
    "language_info": {
      "codemirror_mode": {
        "name": "ipython",
        "version": 3
      },
      "file_extension": ".py",
      "mimetype": "text/x-python",
      "name": "python",
      "nbconvert_exporter": "python",
      "pygments_lexer": "ipython3",
      "version": "3.12.1"
    }
  },
  "nbformat": 4,
  "nbformat_minor": 5
}