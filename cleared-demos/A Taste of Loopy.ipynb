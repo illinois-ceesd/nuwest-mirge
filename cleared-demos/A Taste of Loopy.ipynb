{
  "cells": [
    {
      "cell_type": "markdown",
      "metadata": {},
      "source": [
        "# Hello Loopy: Computing a Rank-One Matrix\n",
        "\n",
        "## Setup Code"
      ]
    },
    {
      "cell_type": "code",
      "execution_count": 1,
      "metadata": {
        "collapsed": false,
        "jupyter": {
          "outputs_hidden": false
        }
      },
      "outputs": [],
      "source": [
        "import numpy as np\n",
        "import pyopencl as cl\n",
        "import pyopencl.array\n",
        "import pyopencl.clrandom\n",
        "import loopy as lp\n",
        "\n",
        "from loopy.version import LOOPY_USE_LANGUAGE_VERSION_2018_2"
      ]
    },
    {
      "cell_type": "code",
      "execution_count": 2,
      "metadata": {
        "collapsed": false,
        "jupyter": {
          "outputs_hidden": false
        }
      },
      "outputs": [],
      "source": [
        "ctx = cl.create_some_context(interactive=True)\n",
        "queue = cl.CommandQueue(ctx)"
      ]
    },
    {
      "cell_type": "code",
      "execution_count": 3,
      "metadata": {
        "collapsed": false,
        "jupyter": {
          "outputs_hidden": false
        }
      },
      "outputs": [],
      "source": [
        "n = 1024\n",
        "a = cl.clrandom.rand(queue, n, dtype=np.float32)\n",
        "b = cl.clrandom.rand(queue, n, dtype=np.float32)"
      ]
    },
    {
      "cell_type": "markdown",
      "metadata": {},
      "source": [
        "## The Initial Kernel"
      ]
    },
    {
      "cell_type": "code",
      "execution_count": 4,
      "metadata": {
        "collapsed": false,
        "jupyter": {
          "outputs_hidden": false
        }
      },
      "outputs": [],
      "source": [
        "knl = lp.make_kernel(\n",
        "    \"{[i,j]: 0<=i,j<n}\",\n",
        "    \"c[i, j] = a[i]*b[j]\")"
      ]
    },
    {
      "cell_type": "code",
      "execution_count": 5,
      "metadata": {
        "collapsed": false,
        "jupyter": {
          "outputs_hidden": false
        }
      },
      "outputs": [],
      "source": [
        "knl = lp.set_options(knl, write_cl=True)\n",
        "evt, (mat,) = knl(queue, a=a, b=b)"
      ]
    },
    {
      "cell_type": "markdown",
      "metadata": {},
      "source": [
        "## Transforming kernels: Loop Splitting\n",
        "\n",
        "Next: transform kernel. Example: Split a loop into fixed-length \"chunks\"."
      ]
    },
    {
      "cell_type": "code",
      "execution_count": 6,
      "metadata": {
        "collapsed": false,
        "jupyter": {
          "outputs_hidden": false
        }
      },
      "outputs": [],
      "source": [
        "isplit_knl = knl\n",
        "isplit_knl = lp.split_iname(isplit_knl, \"i\", 4)\n",
        "\n",
        "evt, (mat,) = isplit_knl(queue, a=a, b=b)"
      ]
    },
    {
      "cell_type": "markdown",
      "metadata": {},
      "source": [
        "Want to get rid of the conditional?"
      ]
    },
    {
      "cell_type": "markdown",
      "metadata": {},
      "source": [
        "## Transforming kernels: Implementation Tags\n",
        "\n",
        "Every loop axis (\"iname\") comes with an *implementation tag*."
      ]
    },
    {
      "cell_type": "code",
      "execution_count": 7,
      "metadata": {
        "collapsed": false,
        "jupyter": {
          "outputs_hidden": false
        }
      },
      "outputs": [],
      "source": [
        "isplit_knl = knl\n",
        "isplit_knl = lp.assume(isplit_knl, \"n mod 4 = 0\")\n",
        "isplit_knl = lp.split_iname(isplit_knl, \"i\", 4)\n",
        "isplit_knl = lp.tag_inames(isplit_knl, {\"i_inner\": \"unr\"})\n",
        "\n",
        "evt, (mat,) = isplit_knl(queue, a=a, b=b)"
      ]
    },
    {
      "cell_type": "markdown",
      "metadata": {},
      "source": [
        "May want to influence loop ordering."
      ]
    },
    {
      "cell_type": "markdown",
      "metadata": {},
      "source": [
        "----\n",
        "\"Map to GPU hw axis\" is an iname tag as well.\n",
        "\n",
        "Use shortcuts for less typing:"
      ]
    },
    {
      "cell_type": "code",
      "execution_count": 8,
      "metadata": {
        "collapsed": false,
        "jupyter": {
          "outputs_hidden": false
        }
      },
      "outputs": [],
      "source": [
        "split_knl = knl\n",
        "split_knl = lp.split_iname(split_knl, \"i\", 16,\n",
        "        outer_tag=\"g.0\", inner_tag=\"l.0\")\n",
        "split_knl = lp.split_iname(split_knl, \"j\", 16,\n",
        "        outer_tag=\"g.1\", inner_tag=\"l.1\")\n",
        "\n",
        "evt, (mat,) = split_knl(queue, a=a, b=b)"
      ]
    },
    {
      "cell_type": "markdown",
      "metadata": {},
      "source": [
        "## Transforming kernels: Leveraging data reuse\n",
        "\n",
        "Better! But still not much data reuse."
      ]
    },
    {
      "cell_type": "code",
      "execution_count": 9,
      "metadata": {
        "collapsed": false,
        "jupyter": {
          "outputs_hidden": false
        }
      },
      "outputs": [],
      "source": [
        "fetch1_knl = knl\n",
        "\n",
        "fetch1_knl = lp.add_prefetch(fetch1_knl, \"a\", fetch_outer_inames=\"i\")\n",
        "fetch1_knl = lp.add_prefetch(fetch1_knl, \"b\", fetch_outer_inames=\"i,j\")\n",
        "\n",
        "evt, (mat,) = fetch1_knl(queue, a=a, b=b)"
      ]
    },
    {
      "cell_type": "markdown",
      "metadata": {},
      "source": [
        "But this is useless for the GPU version. (demo)"
      ]
    },
    {
      "cell_type": "markdown",
      "metadata": {},
      "source": [
        "---\n",
        "\n",
        "Would like to fetch entire \"access footprint\" of a loop."
      ]
    },
    {
      "cell_type": "code",
      "execution_count": 10,
      "metadata": {
        "collapsed": false,
        "jupyter": {
          "outputs_hidden": false
        }
      },
      "outputs": [],
      "source": [
        "fetch_knl = split_knl\n",
        "\n",
        "fetch_knl = lp.add_prefetch(fetch_knl, \"a\", [\"i_inner\"], default_tag=\"l.auto\")\n",
        "fetch_knl = lp.add_prefetch(fetch_knl, \"b\", [\"j_inner\"], default_tag=\"l.auto\")\n",
        "\n",
        "fetch_knl = lp.add_inames_for_unused_hw_axes(fetch_knl, \"id:*fetch*\")\n",
        "evt, (mat,) = fetch_knl(queue, a=a, b=b)"
      ]
    },
    {
      "cell_type": "markdown",
      "metadata": {},
      "source": [
        "## Transforming kernels: Eliminating Conditionals\n",
        "\n",
        "All those conditionals take time to evaluate!"
      ]
    },
    {
      "cell_type": "code",
      "execution_count": 11,
      "metadata": {
        "collapsed": false,
        "jupyter": {
          "outputs_hidden": false
        }
      },
      "outputs": [],
      "source": [
        "sfetch_knl = knl\n",
        "sfetch_knl = lp.split_iname(sfetch_knl, \"i\", 16,\n",
        "        outer_tag=\"g.0\", inner_tag=\"l.0\", slabs=(0,1))\n",
        "sfetch_knl = lp.split_iname(sfetch_knl, \"j\", 16,\n",
        "        outer_tag=\"g.1\", inner_tag=\"l.1\", slabs=(0,1))\n",
        "\n",
        "sfetch_knl = lp.add_prefetch(sfetch_knl, \"a\", [\"i_inner\"], default_tag=\"l.auto\")\n",
        "sfetch_knl = lp.add_prefetch(sfetch_knl, \"b\", [\"j_inner\"], default_tag=\"l.auto\")\n",
        "sfetch_knl = lp.add_inames_for_unused_hw_axes(sfetch_knl, \"id:*fetch*\")\n",
        "\n",
        "evt, (mat,) = sfetch_knl(queue, a=a, b=b)"
      ]
    },
    {
      "cell_type": "code",
      "execution_count": null,
      "metadata": {
        "collapsed": false,
        "jupyter": {
          "outputs_hidden": false
        }
      },
      "outputs": [],
      "source": []
    }
  ],
  "metadata": {
    "kernelspec": {
      "display_name": "Python 3 (ipykernel)",
      "language": "python",
      "name": "python3"
    },
    "language_info": {
      "codemirror_mode": {
        "name": "ipython",
        "version": 3
      },
      "file_extension": ".py",
      "mimetype": "text/x-python",
      "name": "python",
      "nbconvert_exporter": "python",
      "pygments_lexer": "ipython3",
      "version": "3.11.5"
    }
  },
  "nbformat": 4,
  "nbformat_minor": 4
}