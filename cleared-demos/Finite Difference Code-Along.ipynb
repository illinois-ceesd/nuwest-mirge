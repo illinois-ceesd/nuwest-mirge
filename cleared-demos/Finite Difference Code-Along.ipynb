{
  "cells": [
    {
      "cell_type": "markdown",
      "id": "633cad67-bdc9-4e8c-b51a-b3971648aaf9",
      "metadata": {},
      "source": [
        "# Finite Differences with MIRGE\n",
        "\n",
        "In this code-along, we will put together a (very) simple finite-difference wave equation solver using the MIRGE machinery."
      ]
    },
    {
      "cell_type": "markdown",
      "id": "b2409c5e-4d1b-45da-9daa-b15aca361cdd",
      "metadata": {},
      "source": [
        "First, we need to import the ingredients:"
      ]
    },
    {
      "cell_type": "code",
      "execution_count": 1,
      "id": "bdf2e402-2ec5-4c80-ab4a-f758ed5ec8db",
      "metadata": {},
      "outputs": [],
      "source": [
        "import numpy as np\n",
        "import matplotlib.pyplot as plt\n",
        "import arraycontext\n",
        "import pyopencl as cl\n",
        "from pytools.obj_array import make_obj_array"
      ]
    },
    {
      "cell_type": "code",
      "execution_count": 21,
      "id": "fe86f6e1-0d62-40cf-8832-7b9b3e6527a1",
      "metadata": {},
      "outputs": [],
      "source": [
        "%load_ext gvmagic"
      ]
    },
    {
      "cell_type": "code",
      "execution_count": 2,
      "id": "c0fb83ab-b621-4897-bba2-fc6f1e19d973",
      "metadata": {},
      "outputs": [],
      "source": [
        "cl_ctx = cl.create_some_context(interactive=True)\n",
        "queue = cl.CommandQueue(cl_ctx)"
      ]
    },
    {
      "cell_type": "code",
      "execution_count": 3,
      "id": "6dd49f69-5f30-4362-9e86-81ed6b9c0237",
      "metadata": {},
      "outputs": [],
      "source": []
    },
    {
      "cell_type": "markdown",
      "id": "015faae0-b97a-4191-b22e-d3db5c4b6915",
      "metadata": {},
      "source": [
        "To get started, we'll need a simple mesh infrastructure.\n",
        "\n",
        "Observe how `actx` is being used:"
      ]
    },
    {
      "cell_type": "code",
      "execution_count": 4,
      "id": "a168150c-7ddf-49d6-897a-d4ba85622ea5",
      "metadata": {},
      "outputs": [],
      "source": [
        "class Mesh:\n",
        "    def __init__(self, size_x, size_y, resolution):\n",
        "        self.size_x = size_x\n",
        "        self.size_y = size_y\n",
        "        self.resolution = resolution\n",
        "        self.nx, self.ny = int(size_x*resolution), int(size_y*resolution)\n",
        "\n",
        "        self.x = actx.np.linspace(\n",
        "                0, size_x, self.nx, endpoint=False).reshape(self.nx, 1)\n",
        "        self.y = actx.np.linspace(\n",
        "                0, size_y, self.ny, endpoint=False).reshape(1, self.ny)\n",
        "        self.hx = actx.to_numpy(self.x[1, 0] - self.x[0, 0])\n",
        "        self.hy = actx.to_numpy(self.y[0, 1] - self.y[0, 0])\n",
        "\n",
        "    def plot(self, f, **kwargs):\n",
        "        f = actx.to_numpy(f)\n",
        "        return plt.imshow(f.T[::-1], extent=(0, self.size_x, 0, self.size_y),\n",
        "                          **kwargs)\n",
        "\n",
        "    def set_plot_data(self, img, f):\n",
        "        f = actx.to_numpy(f)\n",
        "        img.set_data(f.T[::-1])\n",
        "\n",
        "    def zeros(self):\n",
        "        return actx.zeros((self.nx, self.ny), dtype=np.float64)\n",
        "\n",
        "    def norm(self, u):\n",
        "        return actx.np.sqrt(actx.np.sum(abs(u)**2)) * (\n",
        "                self.size_x * self.size_y / (self.nx - 1) / (self.ny -1))\n",
        "\n",
        "mesh = Mesh(size_x=6, size_y=4, resolution=64)"
      ]
    },
    {
      "cell_type": "code",
      "execution_count": 5,
      "id": "a1662588-fda0-4512-a5a5-b4269c94dae2",
      "metadata": {},
      "outputs": [],
      "source": [
        "f = (mesh.x - mesh.size_x/2)**2 + (mesh.y - mesh.size_y/2)**2\n",
        "mesh.plot(f)"
      ]
    },
    {
      "cell_type": "markdown",
      "id": "62c074c2-6e42-40bb-8b78-c4546d968e97",
      "metadata": {},
      "source": [
        "Next up, define and test a derivative operator along the $x$ axis:"
      ]
    },
    {
      "cell_type": "code",
      "execution_count": 6,
      "id": "de4947d6-2b22-45d7-bc28-d556d2d55117",
      "metadata": {},
      "outputs": [],
      "source": []
    },
    {
      "cell_type": "markdown",
      "id": "fffe9161-54f9-462d-b737-f1846fa6b406",
      "metadata": {},
      "source": [
        "We will now head towards time-dependent simulation. For this, we need a simple Runge-Kutta scheme:"
      ]
    },
    {
      "cell_type": "code",
      "execution_count": 7,
      "id": "50b5cc8d-9964-4d64-8a6e-c8c3128a44ab",
      "metadata": {},
      "outputs": [],
      "source": [
        "def rk4_step(y, t, h, f):\n",
        "    k1 = f(t, y)\n",
        "    k2 = f(t+h/2, y + h/2*k1)\n",
        "    k3 = f(t+h/2, y + h/2*k2)\n",
        "    k4 = f(t+h, y + h*k3)\n",
        "    return y + h/6*(k1 + 2*k2 + 2*k3 + k4)"
      ]
    },
    {
      "cell_type": "markdown",
      "id": "f9745189-2da1-4825-bede-03f9157a1b5e",
      "metadata": {},
      "source": [
        "And we will make use of a \"bump\" function as a source term:"
      ]
    },
    {
      "cell_type": "code",
      "execution_count": 8,
      "id": "072a6908-eb6e-4421-b80a-1edfcd03db64",
      "metadata": {},
      "outputs": [],
      "source": [
        "bump = actx.np.exp(-80*((mesh.x - mesh.size_x/2)**2 + (mesh.y - mesh.size_y/2)**2))\n",
        "mesh.plot(bump)"
      ]
    },
    {
      "cell_type": "markdown",
      "id": "66a1175e-e764-47a5-8b2d-b1c2a34c5844",
      "metadata": {},
      "source": [
        "Next, let us move closer to an actual wave equation solver. To do so, define:\n",
        "\n",
        "- A function `laplace(mesh, u, boundary_val)`\n",
        "- The RHS: `rhs(t, s)`. Use a time-dependent source term $\\sin(30t)\\cdot \\text{bump}$.\n",
        "- A function realizing a whole time step: `tstep(t, s)`\n",
        "- A time step `dt` obeying a CFL condition."
      ]
    },
    {
      "cell_type": "code",
      "execution_count": 9,
      "id": "15794500-43c0-4ebd-8ae7-f606caf4ce85",
      "metadata": {},
      "outputs": [],
      "source": [
        "def laplace(mesh, u, boundary_val):\n",
        "    padded_x = actx.np.concatenate((\n",
        "        actx.np.full((1, mesh.ny), boundary_val),\n",
        "        u,\n",
        "        actx.np.full((1, mesh.ny), boundary_val),\n",
        "        ), axis=0)\n",
        "    padded_y = actx.np.concatenate((\n",
        "        actx.np.full((mesh.nx, 1), boundary_val),\n",
        "        u,\n",
        "        actx.np.full((mesh.nx, 1), boundary_val),\n",
        "        ), axis=1)\n",
        "    return (\n",
        "            (padded_x[2:] - 2*u + padded_x[:-2])/mesh.hx**2\n",
        "            +\n",
        "            (padded_y[:, 2:] - 2*u + padded_y[:, :-2])/mesh.hy**2\n",
        "            )\n",
        "\n",
        "\n",
        "# TODO: Remember to show that rhs is only called *once*\n",
        "def rhs(t, s):\n",
        "    u, du_dt = s\n",
        "\n",
        "    return make_obj_array([\n",
        "        du_dt + actx.np.sin(30*t) * bump,\n",
        "        laplace(mesh, u, 0)\n",
        "        ])\n",
        "\n",
        "def tstep(t, s):\n",
        "    return rk4_step(s, t, dt, rhs)\n",
        "\n",
        "dt = min(mesh.hx, mesh.hy)"
      ]
    },
    {
      "cell_type": "markdown",
      "id": "f0c4d604-3731-4119-b278-96b799a6d06f",
      "metadata": {},
      "source": [
        "Here's our initial condition:"
      ]
    },
    {
      "cell_type": "code",
      "execution_count": 10,
      "id": "bbd2ff19-a307-4add-a1da-91e182c7eadf",
      "metadata": {},
      "outputs": [],
      "source": [
        "state = make_obj_array([mesh.zeros(), mesh.zeros()])\n",
        "t = 0."
      ]
    },
    {
      "cell_type": "markdown",
      "id": "4b8a86be-b42c-4f56-9f65-68c1182895d6",
      "metadata": {},
      "source": [
        "Next, take a few time steps (code up one and hit Ctrl-Enter):"
      ]
    },
    {
      "cell_type": "code",
      "execution_count": 11,
      "id": "1bdbc621-75cf-4228-b364-0dc3a9bb8a3b",
      "metadata": {},
      "outputs": [],
      "source": []
    },
    {
      "cell_type": "markdown",
      "id": "62f6c2af-b043-4c12-94d7-a783f5670916",
      "metadata": {},
      "source": [
        "What do you observe? Can you fix the issue? (Again, use a Ctrl-Enter loop):"
      ]
    },
    {
      "cell_type": "code",
      "execution_count": 12,
      "id": "8f2d08fb-7e3d-4847-bd6b-7da507f07402",
      "metadata": {},
      "outputs": [],
      "source": [
        "t = 0.\n",
        "state = make_obj_array([mesh.zeros(), mesh.zeros()])"
      ]
    },
    {
      "cell_type": "code",
      "execution_count": 13,
      "id": "62a83054-7d77-4301-b2f0-e517111ba13d",
      "metadata": {},
      "outputs": [],
      "source": []
    },
    {
      "cell_type": "markdown",
      "id": "7a93325f-72e1-4013-9fce-253138851740",
      "metadata": {},
      "source": [
        "What do you notice about step-to-step time? Can you fix this issue?"
      ]
    },
    {
      "cell_type": "code",
      "execution_count": 14,
      "id": "5f7c5c98-00d0-4ca1-9182-914f2e665c7e",
      "metadata": {},
      "outputs": [],
      "source": [
        "t = 0.\n",
        "state = make_obj_array([mesh.zeros(), mesh.zeros()])"
      ]
    },
    {
      "cell_type": "code",
      "execution_count": 15,
      "id": "2f1a0083-55f0-44dc-ae51-6d9405f2c04a",
      "metadata": {},
      "outputs": [],
      "source": []
    },
    {
      "cell_type": "code",
      "execution_count": 16,
      "id": "0502d0cf-af2c-4d67-a795-201ae7084e50",
      "metadata": {},
      "outputs": [],
      "source": []
    },
    {
      "cell_type": "markdown",
      "id": "c50a00b1-7319-449b-8e75-c2cf01b3db1f",
      "metadata": {},
      "source": [
        "Here's an animation to convince you that a PDE got solved:"
      ]
    },
    {
      "cell_type": "code",
      "execution_count": 17,
      "id": "26993c4c-4b17-459d-8949-041ef2ef11ff",
      "metadata": {},
      "outputs": [],
      "source": [
        "t = 0.\n",
        "state = make_obj_array([mesh.zeros(), mesh.zeros()])\n",
        "\n",
        "fig = plt.figure()\n",
        "img = mesh.plot(state[0], vmin=-0.02, vmax=0.02)\n",
        "\n",
        "def update(frame):\n",
        "    global t, state\n",
        "    for i in range(10):\n",
        "        state = tstep_compiled(actx.from_numpy(t), state)\n",
        "        t += dt\n",
        "    mesh.set_plot_data(img, state[0])\n",
        "\n",
        "import matplotlib.animation as animation\n",
        "ani = animation.FuncAnimation(fig=fig, func=update, frames=40, interval=30)\n",
        "\n",
        "from IPython.display import HTML\n",
        "html = HTML(ani.to_jshtml())\n",
        "plt.clf()\n",
        "html"
      ]
    },
    {
      "cell_type": "markdown",
      "id": "4839f88e-123d-482e-94ba-fb56c9090abc",
      "metadata": {},
      "source": [
        "For the remainder of this code-along, we will investigate various questions relating to the our solver.\n",
        "\n",
        "- First, how often did `rhs` get called above? (investigate this by modifying the code above)\n",
        "    - What are the implications of that?\n",
        "    - What if there are `if` statements in your code?\n",
        "    \n",
        "- Next, can we see the C code that was generated \"under the hood\"?"
      ]
    },
    {
      "cell_type": "code",
      "execution_count": 18,
      "id": "40d91544-3228-4062-8e9d-bbaa92fb50ef",
      "metadata": {},
      "outputs": [],
      "source": []
    },
    {
      "cell_type": "markdown",
      "id": "e52fca34-9489-4bd3-aa91-2ed425cff448",
      "metadata": {},
      "source": [
        "Can we see the data flow graph that was obtained?"
      ]
    },
    {
      "cell_type": "code",
      "execution_count": 23,
      "id": "00ae701f-ad32-49be-8891-8cd34d07b203",
      "metadata": {},
      "outputs": [],
      "source": []
    },
    {
      "cell_type": "code",
      "execution_count": 34,
      "id": "0e9895c4-3aa1-435e-841e-5e793adccead",
      "metadata": {},
      "outputs": [],
      "source": [
        "from pytools.graphviz import show_dot\n",
        "show_dot(dot_codes[-1])"
      ]
    },
    {
      "cell_type": "code",
      "execution_count": 33,
      "id": "4acbacf3-45b4-46d5-9ec7-7532a3f4843d",
      "metadata": {},
      "outputs": [],
      "source": [
        "%dotstr dot_codes[-1]"
      ]
    },
    {
      "cell_type": "code",
      "execution_count": 25,
      "id": "61fc9a91-2143-41fc-a88f-7a4877f7a037",
      "metadata": {},
      "outputs": [],
      "source": [
        "%dotstr \"dpi=20;\\n\"+dot_codes[-1]"
      ]
    },
    {
      "cell_type": "markdown",
      "id": "def8d83f-e72c-433e-9c57-5415f29ea03f",
      "metadata": {},
      "source": [
        "- Can we influence the code that gets generated? Perhaps change which results end up in temporary variables?"
      ]
    },
    {
      "cell_type": "code",
      "execution_count": 20,
      "id": "523fd0b0-61f1-4777-b144-5b13bfd7dbb2",
      "metadata": {},
      "outputs": [],
      "source": []
    },
    {
      "cell_type": "markdown",
      "id": "769cca4a-7c29-45ca-b1f0-fdd13cc951c9",
      "metadata": {},
      "source": [
        "* Can we estimate cost?"
      ]
    },
    {
      "cell_type": "code",
      "execution_count": 42,
      "id": "9bf0872e-662d-480e-8e25-de79e2089539",
      "metadata": {},
      "outputs": [],
      "source": []
    },
    {
      "cell_type": "markdown",
      "id": "d860092a-1e31-404a-8a3f-b21d5e8e0daa",
      "metadata": {},
      "source": [
        "- Can we transform the code for efficient execution on a GPU?"
      ]
    },
    {
      "cell_type": "code",
      "execution_count": 48,
      "id": "4906bd5d-f343-46a9-8185-0eca15105b9b",
      "metadata": {},
      "outputs": [],
      "source": []
    },
    {
      "cell_type": "markdown",
      "id": "87612253-08b8-46bb-a9c1-b9266fbaf642",
      "metadata": {},
      "source": [
        "* How do we write robust transform code?"
      ]
    },
    {
      "cell_type": "code",
      "execution_count": 43,
      "id": "cc5d494f-2a5a-4a39-8532-516433d84577",
      "metadata": {},
      "outputs": [],
      "source": [
        "# exercise for the reader :)\n",
        "# You can tag array axes in pytato, and those tags survive on loop variables (\"inames\") in loopy.\n",
        "# You can also tag arrays."
      ]
    },
    {
      "cell_type": "markdown",
      "id": "5c7ba602-b1dc-4708-a649-669e8e84e045",
      "metadata": {},
      "source": [
        "* How can we express distributed-memory computation?"
      ]
    },
    {
      "cell_type": "code",
      "execution_count": null,
      "id": "2942f9b6-9db4-4201-986b-673aa0c29fd0",
      "metadata": {},
      "outputs": [],
      "source": [
        "# exercise for the reader :)\n",
        "# The necessary tools in pytato exist!"
      ]
    }
  ],
  "metadata": {
    "kernelspec": {
      "display_name": "Python 3 (ipykernel)",
      "language": "python",
      "name": "python3"
    },
    "language_info": {
      "codemirror_mode": {
        "name": "ipython",
        "version": 3
      },
      "file_extension": ".py",
      "mimetype": "text/x-python",
      "name": "python",
      "nbconvert_exporter": "python",
      "pygments_lexer": "ipython3",
      "version": "3.11.5"
    }
  },
  "nbformat": 4,
  "nbformat_minor": 5
}