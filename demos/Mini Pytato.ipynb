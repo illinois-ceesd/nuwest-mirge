{
 "cells": [
  {
   "cell_type": "markdown",
   "id": "c151c414-2827-42d6-8eb7-5edaf09dbd56",
   "metadata": {},
   "source": [
    "# Mini Pytato "
   ]
  },
  {
   "cell_type": "code",
   "execution_count": 8,
   "id": "880a1006-9486-4055-b648-ba787448f920",
   "metadata": {},
   "outputs": [
    {
     "name": "stdout",
     "output_type": "stream",
     "text": [
      "Choose platform:\n",
      "[0] <pyopencl.Platform 'Intel(R) OpenCL Graphics' at 0x4349d20>\n",
      "[1] <pyopencl.Platform 'Portable Computing Language' at 0x7f7b3fdf5788>\n"
     ]
    },
    {
     "name": "stdin",
     "output_type": "stream",
     "text": [
      "Choice [0]: 1\n"
     ]
    },
    {
     "name": "stdout",
     "output_type": "stream",
     "text": [
      "Set the environment variable PYOPENCL_CTX='1' to avoid being asked again.\n"
     ]
    }
   ],
   "source": [
    "import numpy as np\n",
    "import numpy.linalg as la\n",
    "import pymbolic.primitives as p\n",
    "import loopy as lp\n",
    "import pyopencl as cl\n",
    "import pyopencl.array\n",
    "\n",
    "%load_ext gvmagic\n",
    "\n",
    "ctx = cl.create_some_context(interactive=True)\n",
    "queue = cl.CommandQueue(ctx)"
   ]
  },
  {
   "cell_type": "markdown",
   "id": "18d276cd-bc95-4ddf-8f0a-c21411ac61bf",
   "metadata": {},
   "source": [
    "In this demo, we will deal with numpy-ish arrays that *all* have shape `(10, 10)` (think of them as $10\\times 10$ matrices maybe) and contain floating point numbers."
   ]
  },
  {
   "cell_type": "markdown",
   "id": "34d74bbb-fcf2-4f09-9d81-a3bc9ed9e564",
   "metadata": {},
   "source": [
    "## Building Expression Graphs\n",
    "\n",
    "We would like to build a data structure that represents the following computation, so that:\n",
    "\n",
    "- we can execute it later\n",
    "- we can generate code for it\n",
    "\n",
    "Reflect for a moment what `result` *is*. Does it contain data? What is its \"meaning\"?\n",
    "\n",
    "(`Placeholder` is not yet implemented. We will do this in the next cell. This cell is repeated below for convenience.)"
   ]
  },
  {
   "cell_type": "code",
   "execution_count": 9,
   "id": "622594a6-c7f4-4f96-8f91-c33e3ce108d0",
   "metadata": {},
   "outputs": [],
   "source": [
    "a = Placeholder(\"a\")\n",
    "b = Placeholder(\"b\")\n",
    "\n",
    "result = a + b * a"
   ]
  },
  {
   "cell_type": "markdown",
   "id": "03f91552-4f6e-48da-b209-e445189465aa",
   "metadata": {},
   "source": [
    "Now let's implement the `Array` base class, along with `Sum`, `Product`, and `Placeholder` subclasses. To do so, fill in code for the `...` ellipses:"
   ]
  },
  {
   "cell_type": "code",
   "execution_count": 15,
   "id": "d4a767cc-3bb5-4c2a-a46d-a108e2163cf2",
   "metadata": {},
   "outputs": [],
   "source": [
    "class Array:\n",
    "    def __init__(self):\n",
    "        self.shape = (10, 10)\n",
    "        self.dtype = np.float64\n",
    "        \n",
    "    def __add__(self, other):\n",
    "        #beginclear\n",
    "        return Sum(self, other)\n",
    "        #endclear\n",
    "    \n",
    "    def __mul__(self, other):\n",
    "        #beginclear\n",
    "        return Product(self, other)\n",
    "        #endclear\n",
    "        \n",
    "class Sum(Array):\n",
    "    def __init__(self, a, b):\n",
    "        super().__init__()\n",
    "        #beginclear\n",
    "        self.a = a\n",
    "        self.b = b\n",
    "        #endclear\n",
    "        \n",
    "class Product(Array):\n",
    "    def __init__(self, a, b):\n",
    "        super().__init__()\n",
    "        #beginclear\n",
    "        self.a = a\n",
    "        self.b = b\n",
    "        #endclear\n",
    "        \n",
    "class Placeholder(Array):\n",
    "    def __init__(self, name):\n",
    "        super().__init__()\n",
    "        #beginclear\n",
    "        self.name = name\n",
    "        #endclear"
   ]
  },
  {
   "cell_type": "markdown",
   "id": "4e398cdc-391f-4254-8be1-d229e9a4a5bd",
   "metadata": {},
   "source": [
    "Here is the cell from above once again:"
   ]
  },
  {
   "cell_type": "code",
   "execution_count": 16,
   "id": "2ebcd6f3-a64c-451e-906e-bf64930eb4aa",
   "metadata": {},
   "outputs": [],
   "source": [
    "a = Placeholder(\"a\")\n",
    "b = Placeholder(\"b\")\n",
    "\n",
    "result = a + b * a"
   ]
  },
  {
   "cell_type": "markdown",
   "id": "db3e9d39-c452-4302-afaa-e71c023a0040",
   "metadata": {},
   "source": [
    "Can you visualize the data structure that we have just created? (Execute this cell to see if your mental image was correct.)"
   ]
  },
  {
   "cell_type": "code",
   "execution_count": 17,
   "id": "8e19d267-6b19-4ba4-9487-f86cb972d3d4",
   "metadata": {},
   "outputs": [
    {
     "data": {
      "text/html": [
       "<img width=\"100%\" src=\"data:image/svg+xml;base64,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\" >"
      ],
      "text/plain": [
       "<IPython.core.display.HTML object>"
      ]
     },
     "metadata": {},
     "output_type": "display_data"
    }
   ],
   "source": [
    "%%dot\n",
    "digraph {\n",
    "    sum -> prod;\n",
    "    sum -> a;\n",
    "    prod -> a;\n",
    "    prod -> b;\n",
    "}"
   ]
  },
  {
   "cell_type": "markdown",
   "id": "b28d3362-684f-46fe-b935-f1febe8f4863",
   "metadata": {},
   "source": [
    "## Evaluating Expressions\n",
    "\n",
    "Write code to evaluate the expression, provided some values for `a` and `b`:"
   ]
  },
  {
   "cell_type": "code",
   "execution_count": 19,
   "id": "6eb3f5f0-fb87-4b44-b982-862b57f3dba4",
   "metadata": {},
   "outputs": [],
   "source": [
    "def evaluate_expr(expr, values):\n",
    "    if isinstance(expr, Placeholder):\n",
    "        #beginclear\n",
    "        return values[expr.name]\n",
    "        #endclear\n",
    "    elif isinstance(expr, Sum):\n",
    "        #beginclear\n",
    "        return evaluate_expr(expr.a, values) + evaluate_expr(expr.b, values)\n",
    "        #endclear\n",
    "    #beginclear\n",
    "    elif isinstance(expr, Product):\n",
    "        return evaluate_expr(expr.a, values) * evaluate_expr(expr.b, values)\n",
    "    #endclear\n",
    "    else:\n",
    "        raise ValueError(f\"unexpected node type: {expr.__class__}\")\n",
    "    "
   ]
  },
  {
   "cell_type": "markdown",
   "id": "70cd2d2f-f904-4fd8-86bc-61065aff1aa6",
   "metadata": {},
   "source": [
    "Let's test if we got it right. If all is well, this should produce an array of zeroes:"
   ]
  },
  {
   "cell_type": "code",
   "execution_count": 20,
   "id": "2c27965f-0c24-4f2d-945c-230d712ef459",
   "metadata": {},
   "outputs": [
    {
     "data": {
      "text/plain": [
       "array([[0., 0., 0., 0., 0., 0., 0., 0., 0., 0.],\n",
       "       [0., 0., 0., 0., 0., 0., 0., 0., 0., 0.],\n",
       "       [0., 0., 0., 0., 0., 0., 0., 0., 0., 0.],\n",
       "       [0., 0., 0., 0., 0., 0., 0., 0., 0., 0.],\n",
       "       [0., 0., 0., 0., 0., 0., 0., 0., 0., 0.],\n",
       "       [0., 0., 0., 0., 0., 0., 0., 0., 0., 0.],\n",
       "       [0., 0., 0., 0., 0., 0., 0., 0., 0., 0.],\n",
       "       [0., 0., 0., 0., 0., 0., 0., 0., 0., 0.],\n",
       "       [0., 0., 0., 0., 0., 0., 0., 0., 0., 0.],\n",
       "       [0., 0., 0., 0., 0., 0., 0., 0., 0., 0.]])"
      ]
     },
     "execution_count": 20,
     "metadata": {},
     "output_type": "execute_result"
    }
   ],
   "source": [
    "a_val = np.random.randn(10, 10)\n",
    "b_val = np.random.randn(10, 10)\n",
    "\n",
    "evaluate_expr(result, {\"a\": a_val, \"b\": b_val}) - (a_val + b_val * a_val)"
   ]
  },
  {
   "cell_type": "markdown",
   "id": "545d781e-634b-49ef-90ef-ce763a7a1133",
   "metadata": {},
   "source": [
    "Functions like `evaluate_expr` are hard to extend once they're written. Using a class with the \"visitor pattern\" can help, where we make one method per node type that needs to be handled. Make note of the `rec` method that dispatches each node to the appropriate method.\n",
    "\n",
    "Fill in the missing method implementations:"
   ]
  },
  {
   "cell_type": "code",
   "execution_count": 37,
   "id": "5d468882-df30-465f-92a4-c536ab4910a3",
   "metadata": {},
   "outputs": [],
   "source": [
    "class EvaluationMapper:\n",
    "    def __init__(self, values):\n",
    "        self.values = values\n",
    "\n",
    "    def rec(self, expr):\n",
    "        method = getattr(self, f\"map_{expr.__class__.__name__}\")\n",
    "        return method(expr)\n",
    "\n",
    "    def map_Sum(self, expr):\n",
    "        #beginclear\n",
    "        return self.rec(expr.a) + self.rec(expr.b)\n",
    "        #endclear\n",
    "    \n",
    "    def map_Product(self, expr):\n",
    "        #beginclear\n",
    "        return self.rec(expr.a) * self.rec(expr.b)\n",
    "        #endclear\n",
    "\n",
    "    def map_Placeholder(self, expr):\n",
    "        #beginclear\n",
    "        return self.values[expr.name]\n",
    "        #endclear"
   ]
  },
  {
   "cell_type": "markdown",
   "id": "ee44086a-b662-48b6-8cb0-578f4658a483",
   "metadata": {},
   "source": [
    "Again, let's test that this does what we intend:"
   ]
  },
  {
   "cell_type": "code",
   "execution_count": 38,
   "id": "0654960f-da4c-4e88-a081-d49cea16233e",
   "metadata": {},
   "outputs": [
    {
     "data": {
      "text/plain": [
       "array([[0., 0., 0., 0., 0., 0., 0., 0., 0., 0.],\n",
       "       [0., 0., 0., 0., 0., 0., 0., 0., 0., 0.],\n",
       "       [0., 0., 0., 0., 0., 0., 0., 0., 0., 0.],\n",
       "       [0., 0., 0., 0., 0., 0., 0., 0., 0., 0.],\n",
       "       [0., 0., 0., 0., 0., 0., 0., 0., 0., 0.],\n",
       "       [0., 0., 0., 0., 0., 0., 0., 0., 0., 0.],\n",
       "       [0., 0., 0., 0., 0., 0., 0., 0., 0., 0.],\n",
       "       [0., 0., 0., 0., 0., 0., 0., 0., 0., 0.],\n",
       "       [0., 0., 0., 0., 0., 0., 0., 0., 0., 0.],\n",
       "       [0., 0., 0., 0., 0., 0., 0., 0., 0., 0.]])"
      ]
     },
     "execution_count": 38,
     "metadata": {},
     "output_type": "execute_result"
    }
   ],
   "source": [
    "EvaluationMapper({\"a\": a_val, \"b\": b_val}).rec(result) - (a_val + b_val * a_val)"
   ]
  },
  {
   "cell_type": "markdown",
   "id": "5a61324b-8bbe-4935-9b0d-e36a0687d4ef",
   "metadata": {},
   "source": [
    "## Generating code\n",
    "\n",
    "To generate code using our code generator Loopy, all we need to do is to transcribe our array-valued expression into a scalar one, using an existing expression tree library called `pymbolic`. We have imported this as `p` above. The equivalents of `Placeholder`s there are called `Variable`. Let's write a mapper that does this. Again, fill in the blanks:"
   ]
  },
  {
   "cell_type": "code",
   "execution_count": 63,
   "id": "33a4e17b-b5c6-475a-97aa-84646c68e7b9",
   "metadata": {},
   "outputs": [],
   "source": [
    "class CodegenMapper:\n",
    "    def rec(self, expr):\n",
    "        method = getattr(self, f\"map_{expr.__class__.__name__}\")\n",
    "        return method(expr)\n",
    "        \n",
    "    def map_Placeholder(self, expr):\n",
    "        return p.Variable(expr.name)[p.Variable(\"i\"), p.Variable(\"j\")]\n",
    "\n",
    "    def map_Sum(self, expr):\n",
    "        #beginclear\n",
    "        return self.rec(expr.a) + self.rec(expr.b)\n",
    "        #endclear\n",
    "    \n",
    "    def map_Product(self, expr):\n",
    "        #beginclear\n",
    "        return self.rec(expr.a) * self.rec(expr.b)\n",
    "        #endclear"
   ]
  },
  {
   "cell_type": "markdown",
   "id": "0f57f72d-6ec2-4cf9-8378-408220162820",
   "metadata": {},
   "source": [
    "Let's with some expressions:"
   ]
  },
  {
   "cell_type": "code",
   "execution_count": 64,
   "id": "20235511-4904-4e5d-8a04-0275d378ab76",
   "metadata": {},
   "outputs": [],
   "source": [
    "x = Placeholder(\"x\")\n",
    "y = Placeholder(\"y\")\n",
    "\n",
    "expr = (x+x*y)*x\n",
    "\n",
    "# expr = (x+y)\n",
    "# expr = expr*expr\n",
    "# expr = expr*expr\n",
    "# expr = expr*expr\n",
    "# expr = expr*expr\n",
    "# expr = expr*expr"
   ]
  },
  {
   "cell_type": "markdown",
   "id": "2eec9417-40f0-4656-82a7-ad2d6d222bbd",
   "metadata": {},
   "source": [
    "Generate code for these expressions:"
   ]
  },
  {
   "cell_type": "code",
   "execution_count": 65,
   "id": "88c740c1-d882-4c3a-95cd-4700b35071b6",
   "metadata": {},
   "outputs": [
    {
     "name": "stdout",
     "output_type": "stream",
     "text": [
      "(x[i, j] + x[i, j]*y[i, j])*x[i, j]\n"
     ]
    }
   ],
   "source": [
    "#clear\n",
    "print(CodegenMapper().rec(expr))"
   ]
  },
  {
   "cell_type": "markdown",
   "id": "30c8f2b4-1363-453d-9a94-635ed7a57d8b",
   "metadata": {},
   "source": [
    "Let's make a loopy kernel for the expression. Fill in the generated scalar expression for the RHS of the `Assignment`:"
   ]
  },
  {
   "cell_type": "code",
   "execution_count": 66,
   "id": "53471296-dd7a-49b2-94b1-f2a0ad3202d7",
   "metadata": {},
   "outputs": [
    {
     "name": "stdout",
     "output_type": "stream",
     "text": [
      "---------------------------------------------------------------------------\n",
      "KERNEL: loopy_kernel\n",
      "---------------------------------------------------------------------------\n",
      "ARGUMENTS:\n",
      "lhs: type: <auto/runtime>, shape: (10, 10), dim_tags: (N1:stride:10, N0:stride:1) out aspace: global\n",
      "x: type: <auto/runtime>, shape: (10, 10), dim_tags: (N1:stride:10, N0:stride:1) in aspace: global\n",
      "y: type: <auto/runtime>, shape: (10, 10), dim_tags: (N1:stride:10, N0:stride:1) in aspace: global\n",
      "---------------------------------------------------------------------------\n",
      "DOMAINS:\n",
      "{ [i, j] : 0 <= i <= 9 and 0 <= j <= 9 }\n",
      "---------------------------------------------------------------------------\n",
      "INAME TAGS:\n",
      "i: None\n",
      "j: None\n",
      "---------------------------------------------------------------------------\n",
      "INSTRUCTIONS:\n",
      "for i, j\n",
      "    \u001b[36mlhs[i, j]\u001b[0m = \u001b[35m(x[i, j] + x[i, j]*y[i, j])*x[i, j]\u001b[0m  {id=\u001b[32minsn\u001b[0m}\n",
      "end i, j\n",
      "---------------------------------------------------------------------------\n"
     ]
    }
   ],
   "source": [
    "knl = lp.make_kernel(\n",
    "    \"{[i,j]: 0<=i,j<10}\",\n",
    "    [lp.Assignment(\n",
    "        p.Variable(\"lhs\")[p.Variable(\"i\"), p.Variable(\"j\")], \n",
    "        #beginclear\n",
    "        CodegenMapper().rec(expr)\n",
    "        #endclear\n",
    "    )])\n",
    "print(knl)"
   ]
  },
  {
   "cell_type": "markdown",
   "id": "44b1439f-4f82-4e55-a2e5-4182128f2a9a",
   "metadata": {},
   "source": [
    "Next, let's run the code on our OpenCL device:"
   ]
  },
  {
   "cell_type": "code",
   "execution_count": 67,
   "id": "1b0255c7-b511-4c6c-9781-291595758311",
   "metadata": {},
   "outputs": [
    {
     "name": "stderr",
     "output_type": "stream",
     "text": [
      "/tmp/ipykernel_191715/976168068.py:4: DirectCallUncachedWarning: TranslationUnit.__call__ will become uncached in 2024, meaning it will incur possibly substantial compilation cost with every invocation. Use TranslationUnit.executor to obtain an object that holds longer-lived caches.\n",
      "  evt, (res,) = knl(queue, x=xval, y=yval)\n"
     ]
    }
   ],
   "source": [
    "xval = np.random.randn(10, 10)\n",
    "yval = np.random.randn(10, 10)\n",
    "\n",
    "evt, (res,) = knl(queue, x=xval, y=yval)"
   ]
  },
  {
   "cell_type": "markdown",
   "id": "c1c7536c-dcb7-43d5-8c94-c5b86ccad801",
   "metadata": {},
   "source": [
    "Check the result:"
   ]
  },
  {
   "cell_type": "code",
   "execution_count": 68,
   "id": "b6a639af-e594-4ab6-8616-4f3b0e54b861",
   "metadata": {},
   "outputs": [
    {
     "name": "stdout",
     "output_type": "stream",
     "text": [
      "0.0\n"
     ]
    }
   ],
   "source": [
    "print(la.norm(res- (xval+xval*yval)*xval))"
   ]
  },
  {
   "cell_type": "markdown",
   "id": "a76415ee-002c-4914-a99b-bc185a89affb",
   "metadata": {},
   "source": [
    "Look at the generated C code:"
   ]
  },
  {
   "cell_type": "code",
   "execution_count": 69,
   "id": "d27cf5eb-4e6d-4966-9eaa-8e3e6a39bee7",
   "metadata": {},
   "outputs": [
    {
     "name": "stdout",
     "output_type": "stream",
     "text": [
      "#define lid(N) ((int) get_local_id(N))\n",
      "#define gid(N) ((int) get_group_id(N))\n",
      "#if __OPENCL_C_VERSION__ < 120\n",
      "#pragma OPENCL EXTENSION cl_khr_fp64: enable\n",
      "#endif\n",
      "\n",
      "__kernel void __attribute__ ((reqd_work_group_size(1, 1, 1))) loopy_kernel(__global double *__restrict__ lhs, __global double const *__restrict__ x, __global double const *__restrict__ y)\n",
      "{\n",
      "  for (int j = 0; j <= 9; ++j)\n",
      "    for (int i = 0; i <= 9; ++i)\n",
      "      lhs[10 * i + j] = (x[10 * i + j] + x[10 * i + j] * y[10 * i + j]) * x[10 * i + j];\n",
      "}\n"
     ]
    }
   ],
   "source": [
    "knl = lp.add_and_infer_dtypes(knl, {\"x\": xval.dtype, \"y\": yval.dtype})\n",
    "\n",
    "code = lp.generate_code_v2(knl).device_code()\n",
    "print(code)"
   ]
  },
  {
   "cell_type": "markdown",
   "id": "5cadb85f-276d-441a-94a8-a1dee3b99d5f",
   "metadata": {},
   "source": [
    "And this is where you might start transforming the loopy code. Here is a simple example that tiles the loop:"
   ]
  },
  {
   "cell_type": "code",
   "execution_count": 76,
   "id": "4fd2e2e3-a980-42c4-a123-64fe336e9eb2",
   "metadata": {},
   "outputs": [
    {
     "name": "stdout",
     "output_type": "stream",
     "text": [
      "#define lid(N) ((int) get_local_id(N))\n",
      "#define gid(N) ((int) get_group_id(N))\n",
      "#if __OPENCL_C_VERSION__ < 120\n",
      "#pragma OPENCL EXTENSION cl_khr_fp64: enable\n",
      "#endif\n",
      "\n",
      "__kernel void __attribute__ ((reqd_work_group_size(1, 1, 1))) loopy_kernel(__global double *__restrict__ lhs, __global double const *__restrict__ x, __global double const *__restrict__ y)\n",
      "{\n",
      "  for (int i_outer = 0; i_outer <= 2; ++i_outer)\n",
      "    for (int j_outer = 0; j_outer <= 2; ++j_outer)\n",
      "      for (int i_inner = 0; i_inner <= ((-2 + i_outer == 0) ? 1 : 3); ++i_inner)\n",
      "        for (int j_inner = 0; j_inner <= ((-2 + j_outer == 0) ? 1 : 3); ++j_inner)\n",
      "          lhs[40 * i_outer + 10 * i_inner + 4 * j_outer + j_inner] = (x[40 * i_outer + 10 * i_inner + 4 * j_outer + j_inner] + x[40 * i_outer + 10 * i_inner + 4 * j_outer + j_inner] * y[40 * i_outer + 10 * i_inner + 4 * j_outer + j_inner]) * x[40 * i_outer + 10 * i_inner + 4 * j_outer + j_inner];\n",
      "}\n"
     ]
    }
   ],
   "source": [
    "tiled = lp.split_iname(knl, \"i\", 4)\n",
    "tiled = lp.split_iname(tiled, \"j\", 4)\n",
    "tiled = lp.prioritize_loops(tiled, \"i_outer, j_outer, i_inner, j_inner\")\n",
    "\n",
    "code = lp.generate_code_v2(tiled).device_code()\n",
    "print(code)"
   ]
  },
  {
   "cell_type": "code",
   "execution_count": null,
   "id": "e9a15bdd-b7c7-4151-bf1f-479efb52d60b",
   "metadata": {},
   "outputs": [],
   "source": []
  }
 ],
 "metadata": {
  "kernelspec": {
   "display_name": "Python 3 (ipykernel)",
   "language": "python",
   "name": "python3"
  },
  "language_info": {
   "codemirror_mode": {
    "name": "ipython",
    "version": 3
   },
   "file_extension": ".py",
   "mimetype": "text/x-python",
   "name": "python",
   "nbconvert_exporter": "python",
   "pygments_lexer": "ipython3",
   "version": "3.12.1"
  }
 },
 "nbformat": 4,
 "nbformat_minor": 5
}
