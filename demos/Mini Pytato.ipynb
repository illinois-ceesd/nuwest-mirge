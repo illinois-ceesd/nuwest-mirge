{
 "cells": [
  {
   "cell_type": "markdown",
   "id": "c151c414-2827-42d6-8eb7-5edaf09dbd56",
   "metadata": {},
   "source": [
    "# Mini Pytato "
   ]
  },
  {
   "cell_type": "code",
   "execution_count": 1,
   "id": "880a1006-9486-4055-b648-ba787448f920",
   "metadata": {},
   "outputs": [
    {
     "name": "stdout",
     "output_type": "stream",
     "text": [
      "Choose platform:\n",
      "[0] <pyopencl.Platform 'Intel(R) OpenCL HD Graphics' at 0x4270220>\n",
      "[1] <pyopencl.Platform 'Portable Computing Language' at 0x7fe6b28e08e8>\n"
     ]
    },
    {
     "name": "stdin",
     "output_type": "stream",
     "text": [
      "Choice [0]: 1\n"
     ]
    },
    {
     "name": "stdout",
     "output_type": "stream",
     "text": [
      "Set the environment variable PYOPENCL_CTX='1' to avoid being asked again.\n"
     ]
    }
   ],
   "source": [
    "import numpy as np\n",
    "import numpy.linalg as la\n",
    "import pymbolic.primitives as p\n",
    "import loopy as lp\n",
    "import pyopencl as cl\n",
    "import pyopencl.array\n",
    "\n",
    "ctx = cl.create_some_context(interactive=True)\n",
    "queue = cl.CommandQueue(ctx)"
   ]
  },
  {
   "cell_type": "markdown",
   "id": "03f91552-4f6e-48da-b209-e445189465aa",
   "metadata": {},
   "source": [
    "Implement the `Array` base class, along with `Sum`, `Product`, and `Placeholder` subclasses:"
   ]
  },
  {
   "cell_type": "code",
   "execution_count": 14,
   "id": "d4a767cc-3bb5-4c2a-a46d-a108e2163cf2",
   "metadata": {},
   "outputs": [],
   "source": [
    "#clear\n",
    "class Array:\n",
    "    def __init__(self):\n",
    "        self.shape = (10, 10)\n",
    "        self.dtype = np.float64\n",
    "        \n",
    "    def __add__(self, other):\n",
    "        return Sum(self, other)\n",
    "    \n",
    "    def __mul__(self, other):\n",
    "        return Product(self, other)\n",
    "        \n",
    "class Sum(Array):\n",
    "    def __init__(self, a, b):\n",
    "        super().__init__()\n",
    "        self.a = a\n",
    "        self.b = b\n",
    "        \n",
    "    mapper_method = \"map_sum\"\n",
    "        \n",
    "class Product(Array):\n",
    "    def __init__(self, a, b):\n",
    "        super().__init__()\n",
    "        self.a = a\n",
    "        self.b = b\n",
    "        \n",
    "    mapper_method = \"map_product\"\n",
    "        \n",
    "class Placeholder(Array):\n",
    "    def __init__(self, name):\n",
    "        super().__init__()\n",
    "        self.name = name\n",
    "        \n",
    "    mapper_method = \"map_placeholder\""
   ]
  },
  {
   "cell_type": "markdown",
   "id": "5a61324b-8bbe-4935-9b0d-e36a0687d4ef",
   "metadata": {},
   "source": [
    "Implement a `CodegenMapper`:"
   ]
  },
  {
   "cell_type": "code",
   "execution_count": 17,
   "id": "33a4e17b-b5c6-475a-97aa-84646c68e7b9",
   "metadata": {},
   "outputs": [],
   "source": [
    "#clear\n",
    "class CodegenMapper:\n",
    "    def rec(self, ary):\n",
    "        return getattr(self, ary.mapper_method)(ary)\n",
    "    \n",
    "    def map_sum(self, expr):\n",
    "        return self.rec(expr.a) + self.rec(expr.b)\n",
    "    \n",
    "    def map_product(self, expr):\n",
    "        return self.rec(expr.a) * self.rec(expr.b)\n",
    "    \n",
    "    def map_placeholder(self, expr):\n",
    "        return p.Variable(expr.name)[p.Variable(\"i\"), p.Variable(\"j\")]"
   ]
  },
  {
   "cell_type": "markdown",
   "id": "0f57f72d-6ec2-4cf9-8378-408220162820",
   "metadata": {},
   "source": [
    "Experiment with some expressions:"
   ]
  },
  {
   "cell_type": "code",
   "execution_count": 5,
   "id": "20235511-4904-4e5d-8a04-0275d378ab76",
   "metadata": {},
   "outputs": [],
   "source": [
    "x = Placeholder(\"x\")\n",
    "y = Placeholder(\"y\")\n",
    "\n",
    "expr = (x+x*y)*x\n",
    "\n",
    "# expr = (x+y)\n",
    "# expr = expr*expr\n",
    "# expr = expr*expr\n",
    "# expr = expr*expr\n",
    "# expr = expr*expr\n",
    "# expr = expr*expr"
   ]
  },
  {
   "cell_type": "markdown",
   "id": "2eec9417-40f0-4656-82a7-ad2d6d222bbd",
   "metadata": {},
   "source": [
    "Generate code for these expressions:"
   ]
  },
  {
   "cell_type": "code",
   "execution_count": 18,
   "id": "88c740c1-d882-4c3a-95cd-4700b35071b6",
   "metadata": {},
   "outputs": [
    {
     "name": "stdout",
     "output_type": "stream",
     "text": [
      "(x[i, j] + x[i, j]*y[i, j])*x[i, j]\n"
     ]
    }
   ],
   "source": [
    "#clear\n",
    "print(CodegenMapper().rec(expr))"
   ]
  },
  {
   "cell_type": "markdown",
   "id": "30c8f2b4-1363-453d-9a94-635ed7a57d8b",
   "metadata": {},
   "source": [
    "Generate loopy for your expression (and print the resulting kernel):"
   ]
  },
  {
   "cell_type": "code",
   "execution_count": 7,
   "id": "53471296-dd7a-49b2-94b1-f2a0ad3202d7",
   "metadata": {},
   "outputs": [
    {
     "name": "stdout",
     "output_type": "stream",
     "text": [
      "---------------------------------------------------------------------------\n",
      "KERNEL: loopy_kernel\n",
      "---------------------------------------------------------------------------\n",
      "ARGUMENTS:\n",
      "lhs: type: <auto/runtime>, shape: (10, 10), dim_tags: (N1:stride:10, N0:stride:1) out aspace: global\n",
      "x: type: <auto/runtime>, shape: (10, 10), dim_tags: (N1:stride:10, N0:stride:1) in aspace: global\n",
      "y: type: <auto/runtime>, shape: (10, 10), dim_tags: (N1:stride:10, N0:stride:1) in aspace: global\n",
      "---------------------------------------------------------------------------\n",
      "DOMAINS:\n",
      "{ [i, j] : 0 <= i <= 9 and 0 <= j <= 9 }\n",
      "---------------------------------------------------------------------------\n",
      "INAME TAGS:\n",
      "i: None\n",
      "j: None\n",
      "---------------------------------------------------------------------------\n",
      "INSTRUCTIONS:\n",
      "for i, j\n",
      "    \u001b[36mlhs[i, j]\u001b[0m = \u001b[35m(x[i, j] + x[i, j]*y[i, j])*x[i, j]\u001b[0m  {id=\u001b[32minsn\u001b[0m}\n",
      "end i, j\n",
      "---------------------------------------------------------------------------\n"
     ]
    },
    {
     "name": "stderr",
     "output_type": "stream",
     "text": [
      "/home/andreas/src/loopy/loopy/kernel/creation.py:2595: LoopyWarning: 'lang_version' was not passed to make_function(). To avoid this warning, pass lang_version=(2018, 2) in this invocation. (Or say 'from loopy.version import LOOPY_USE_LANGUAGE_VERSION_2018_2' in the global scope of the calling frame.)\n",
      "  tunit = make_function(*args, **kwargs)\n"
     ]
    }
   ],
   "source": [
    "#clear\n",
    "knl = lp.make_kernel(\n",
    "    \"{[i,j]: 0<=i,j<10}\",\n",
    "    [lp.Assignment(\n",
    "        p.Variable(\"lhs\")[p.Variable(\"i\"), p.Variable(\"j\")], \n",
    "        CodegenMapper().rec(expr)\n",
    "    )])\n",
    "print(knl)"
   ]
  },
  {
   "cell_type": "code",
   "execution_count": 8,
   "id": "1b0255c7-b511-4c6c-9781-291595758311",
   "metadata": {},
   "outputs": [
    {
     "name": "stderr",
     "output_type": "stream",
     "text": [
      "/tmp/ipykernel_301600/976168068.py:4: DirectCallUncachedWarning: TranslationUnit.__call__ will become uncached in 2024, meaning it will incur possibly substantial compilation cost with every invocation. Use TranslationUnit.executor to obtain an object that holds longer-lived caches.\n",
      "  evt, (res,) = knl(queue, x=xval, y=yval)\n"
     ]
    }
   ],
   "source": [
    "xval = np.random.randn(10, 10)\n",
    "yval = np.random.randn(10, 10)\n",
    "\n",
    "evt, (res,) = knl(queue, x=xval, y=yval)"
   ]
  },
  {
   "cell_type": "markdown",
   "id": "c1c7536c-dcb7-43d5-8c94-c5b86ccad801",
   "metadata": {},
   "source": [
    "Check the result:"
   ]
  },
  {
   "cell_type": "code",
   "execution_count": 9,
   "id": "b6a639af-e594-4ab6-8616-4f3b0e54b861",
   "metadata": {},
   "outputs": [
    {
     "name": "stdout",
     "output_type": "stream",
     "text": [
      "3.818293849341007e-15\n"
     ]
    }
   ],
   "source": [
    "print(la.norm(res- (xval+xval*yval)*xval))"
   ]
  },
  {
   "cell_type": "markdown",
   "id": "a76415ee-002c-4914-a99b-bc185a89affb",
   "metadata": {},
   "source": [
    "Look at the generated C code:"
   ]
  },
  {
   "cell_type": "code",
   "execution_count": 10,
   "id": "d27cf5eb-4e6d-4966-9eaa-8e3e6a39bee7",
   "metadata": {},
   "outputs": [
    {
     "name": "stdout",
     "output_type": "stream",
     "text": [
      "#define lid(N) ((int) get_local_id(N))\n",
      "#define gid(N) ((int) get_group_id(N))\n",
      "#if __OPENCL_C_VERSION__ < 120\n",
      "#pragma OPENCL EXTENSION cl_khr_fp64: enable\n",
      "#endif\n",
      "\n",
      "__kernel void __attribute__ ((reqd_work_group_size(1, 1, 1))) loopy_kernel(__global double *__restrict__ lhs, __global double const *__restrict__ x, __global double const *__restrict__ y)\n",
      "{\n",
      "  for (int j = 0; j <= 9; ++j)\n",
      "    for (int i = 0; i <= 9; ++i)\n",
      "      lhs[10 * i + j] = (x[10 * i + j] + x[10 * i + j] * y[10 * i + j]) * x[10 * i + j];\n",
      "}\n"
     ]
    }
   ],
   "source": [
    "knl = lp.add_and_infer_dtypes(knl, {\"x\": xval.dtype, \"y\": yval.dtype})\n",
    "\n",
    "code = lp.generate_code_v2(knl).device_code()\n",
    "print(code)"
   ]
  },
  {
   "cell_type": "code",
   "execution_count": null,
   "id": "a31357ba-1b4d-4c34-9e51-3d40950e34e1",
   "metadata": {},
   "outputs": [],
   "source": []
  }
 ],
 "metadata": {
  "kernelspec": {
   "display_name": "Python 3 (ipykernel)",
   "language": "python",
   "name": "python3"
  },
  "language_info": {
   "codemirror_mode": {
    "name": "ipython",
    "version": 3
   },
   "file_extension": ".py",
   "mimetype": "text/x-python",
   "name": "python",
   "nbconvert_exporter": "python",
   "pygments_lexer": "ipython3",
   "version": "3.11.5"
  }
 },
 "nbformat": 4,
 "nbformat_minor": 5
}
